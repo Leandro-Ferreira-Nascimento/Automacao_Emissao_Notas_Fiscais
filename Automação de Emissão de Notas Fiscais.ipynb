{
 "cells": [
  {
   "cell_type": "markdown",
   "id": "ad00c870",
   "metadata": {},
   "source": [
    "### <span style= 'color:red' > Passos a serem seguidos</span>\n",
    "\n",
    "Entar na pagina de login (no caso é login.html)\n",
    "\n",
    "Preencher login e senha \n",
    "\n",
    "Clicar no botão login e senha\n",
    "\n",
    "Preencher os dados da NF\n",
    "\n",
    "clicar em emitir nota fiscal \n",
    "\n",
    "#### OBS: Todas as arquivos devem estar no mesmo local do arquivo python"
   ]
  },
  {
   "cell_type": "code",
   "execution_count": 1,
   "id": "a9cf8d9a",
   "metadata": {},
   "outputs": [],
   "source": [
    "from pathlib import Path\n",
    "from selenium import webdriver\n",
    "from selenium.webdriver.chrome.service import Service\n",
    "from webdriver_manager.chrome import ChromeDriverManager\n",
    "from selenium.webdriver.common.by import By\n",
    "from selenium.webdriver.common.keys import Keys\n",
    "import time\n",
    "import pandas as pd\n",
    "\n",
    "# Definindo o diretório para download dos arquivos\n",
    "caminho = Path.cwd()\n",
    "\n",
    "# Configurações do WebDriver\n",
    "options = webdriver.ChromeOptions()\n",
    "options.add_experimental_option(\"prefs\", {\n",
    "  \"download.default_directory\": str(caminho),\n",
    "  \"download.prompt_for_download\": False,\n",
    "  \"download.directory_upgrade\": True,\n",
    "  \"safebrowsing.enabled\": True\n",
    "})\n",
    "servico = Service(ChromeDriverManager().install())\n",
    "navegador = webdriver.Chrome(service=servico, options=options)\n",
    "\n",
    "# Acessa a página de login\n",
    "arquivo = caminho / \"login.html\"\n",
    "navegador.get(f'file:///{arquivo}')\n",
    "navegador.maximize_window()\n",
    "\n",
    "# Preenche o formulário de login\n",
    "navegador.find_element(By.XPATH, '/html/body/div/form/input[1]').send_keys(\"leandroautomacao.@hotmail.com\")\n",
    "navegador.find_element(By.XPATH, '/html/body/div/form/input[2]').send_keys(\"leandro123456\")\n",
    "navegador.find_element(By.XPATH, '/html/body/div/form/button').click()\n",
    "\n",
    "# Importa a base de clientes\n",
    "tabela = pd.read_excel(\"NotasEmitir.xlsx\")\n",
    "\n",
    "# Preenche e emite as notas fiscais\n",
    "for linha in tabela.index:\n",
    "    navegador.find_element(By.NAME, 'nome').send_keys(tabela.loc[linha, \"Cliente\"])\n",
    "    navegador.find_element(By.NAME, 'endereco').send_keys(tabela.loc[linha, \"Endereço\"])\n",
    "    navegador.find_element(By.NAME, 'bairro').send_keys(tabela.loc[linha, \"Bairro\"])\n",
    "    navegador.find_element(By.NAME, 'municipio').send_keys(tabela.loc[linha, \"Municipio\"])\n",
    "    navegador.find_element(By.NAME, 'cep').send_keys(str(tabela.loc[linha, \"CEP\"]))\n",
    "    navegador.find_element(By.NAME, 'uf').send_keys(tabela.loc[linha, \"UF\"])\n",
    "    navegador.find_element(By.NAME, 'cnpj').send_keys(str(tabela.loc[linha, \"CPF/CNPJ\"]))\n",
    "    navegador.find_element(By.NAME, 'inscricao').send_keys(str(tabela.loc[linha, \"Inscricao Estadual\"]))\n",
    "    navegador.find_element(By.NAME, 'descricao').send_keys(tabela.loc[linha, \"Descrição\"])\n",
    "    navegador.find_element(By.NAME, 'quantidade').send_keys(str(tabela.loc[linha, \"Quantidade\"]))\n",
    "    navegador.find_element(By.NAME, 'valor_unitario').send_keys(str(tabela.loc[linha, \"Valor Unitario\"]))\n",
    "    navegador.find_element(By.NAME, 'total').send_keys(str(tabela.loc[linha, \"Valor Total\"]))\n",
    "    navegador.find_element(By.CLASS_NAME, 'registerbtn').click()\n",
    "    navegador.refresh()\n",
    "\n",
    "navegador.quit()\n"
   ]
  }
 ],
 "metadata": {
  "kernelspec": {
   "display_name": "Python 3 (ipykernel)",
   "language": "python",
   "name": "python3"
  },
  "language_info": {
   "codemirror_mode": {
    "name": "ipython",
    "version": 3
   },
   "file_extension": ".py",
   "mimetype": "text/x-python",
   "name": "python",
   "nbconvert_exporter": "python",
   "pygments_lexer": "ipython3",
   "version": "3.9.12"
  }
 },
 "nbformat": 4,
 "nbformat_minor": 5
}
